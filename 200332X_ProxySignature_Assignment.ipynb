{
  "cells": [
    {
      "cell_type": "markdown",
      "id": "4069644f",
      "metadata": {
        "id": "4069644f"
      },
      "source": [
        "# Basic Proxy Signature Protocol for Partial Delegation"
      ]
    },
    {
      "cell_type": "markdown",
      "id": "30e7c614",
      "metadata": {
        "id": "30e7c614"
      },
      "source": [
        "## Greatest Common Divisor\n",
        "\n",
        "We need this function in the signature scheme as a utility function."
      ]
    },
    {
      "cell_type": "code",
      "execution_count": 23,
      "id": "4d75e8c5",
      "metadata": {
        "id": "4d75e8c5"
      },
      "outputs": [],
      "source": [
        "def gcd(a, b):\n",
        "    if((a<0) or (b<0) or (a<b)):\n",
        "        print(\"wrong parameter input\")\n",
        "        return\n",
        "\n",
        "    while(b != 0):\n",
        "        r = a % b\n",
        "        a = b\n",
        "        b = r\n",
        "\n",
        "    return a"
      ]
    },
    {
      "cell_type": "markdown",
      "id": "ZcZ9vVt3H5ea",
      "metadata": {
        "id": "ZcZ9vVt3H5ea"
      },
      "source": [
        "The usage of gcd function is tested with some examples as follows:"
      ]
    },
    {
      "cell_type": "code",
      "execution_count": 24,
      "id": "9063ffe1",
      "metadata": {
        "colab": {
          "base_uri": "https://localhost:8080/"
        },
        "id": "9063ffe1",
        "outputId": "5ab432a9-715c-4555-b6bb-44d1aeee4207"
      },
      "outputs": [
        {
          "name": "stdout",
          "output_type": "stream",
          "text": [
            "gcd( 31 , 23 )= 1\n",
            "gcd( 16 , 9 )= 1\n",
            "gcd( 468 , 249 )= 3\n"
          ]
        }
      ],
      "source": [
        "a = 31\n",
        "b = 23\n",
        "d = gcd(a,b)\n",
        "print('gcd(',a,',',b,')=',d)\n",
        "\n",
        "a = 16\n",
        "b = 9\n",
        "d = gcd(a,b)\n",
        "print('gcd(',a,',',b,')=',d)\n",
        "\n",
        "a = 468\n",
        "b = 249\n",
        "d = gcd(a,b)\n",
        "print('gcd(',a,',',b,')=',d)"
      ]
    },
    {
      "cell_type": "markdown",
      "id": "71304b24",
      "metadata": {
        "id": "71304b24"
      },
      "source": [
        "# Protocol\n",
        "\n",
        "## Setup: Key pair generation of original signer\n",
        "\n",
        "public parameter - modulus: prime $p$\n",
        "\n",
        "public parameter - generator for $Z^*_p$: $g$\n",
        "\n",
        "public key: v\n",
        "\n",
        "secret key: s\n",
        "\n",
        "__In this test implementation, only input needs to be given by the user is the prime modulus $p$.__"
      ]
    },
    {
      "cell_type": "markdown",
      "id": "SRKocICCfQe2",
      "metadata": {
        "id": "SRKocICCfQe2"
      },
      "source": [
        "The key pair generation process can be modified as follows to allow the use of a large prime number ***p*** and efficiently find a generator ***g*** for a multiplicative group of integers modulo ***p***."
      ]
    },
    {
      "cell_type": "markdown",
      "id": "uWNVOqOTIU7C",
      "metadata": {
        "id": "uWNVOqOTIU7C"
      },
      "source": [
        "Using Miller Rabin Primality test, a given number ***n*** can be efficiently check for primality."
      ]
    },
    {
      "cell_type": "code",
      "execution_count": 25,
      "id": "R6BBo_QkYO6l",
      "metadata": {
        "colab": {
          "base_uri": "https://localhost:8080/"
        },
        "id": "R6BBo_QkYO6l",
        "outputId": "9e88467e-473b-438c-bd7d-117a97ef15a8"
      },
      "outputs": [
        {
          "name": "stdout",
          "output_type": "stream",
          "text": [
            "*public parameters*\n",
            "prime modulus (p): 1410194329\n",
            "generator     (g): 13\n",
            "*key pair of original signer*\n",
            "public key    (v): 875101051\n",
            "secret key    (s): 897451663\n"
          ]
        }
      ],
      "source": [
        "import random\n",
        "\n",
        "#Miller Rabin Primality Test\n",
        "def is_prime(n, k=5):\n",
        "    if n <= 1:\n",
        "        return False\n",
        "    if n <= 3:\n",
        "        return True\n",
        "    if n % 2 == 0:\n",
        "        return False\n",
        "\n",
        "    r, d = 0, n - 1\n",
        "    while d % 2 == 0:\n",
        "        d //= 2\n",
        "        r += 1\n",
        "\n",
        "    #check if a base a indicates n is composite.\n",
        "    def check_composite(a):\n",
        "        x = pow(a, d, n)\n",
        "        if x == 1 or x == n - 1:\n",
        "            return False\n",
        "        for _ in range(r - 1):\n",
        "            x = pow(x, 2, n)\n",
        "            if x == n - 1:\n",
        "                return False\n",
        "        return True\n",
        "\n",
        "    for _ in range(k):\n",
        "        a = random.randint(2, n - 2)\n",
        "        if check_composite(a):\n",
        "            return False\n",
        "    return True\n",
        "\n",
        "# Generates a large prime number with a specified number of bits.\n",
        "def generate_large_prime(bits=32):\n",
        "    while True:\n",
        "        p = random.getrandbits(bits) | 1  # Ensures p is odd\n",
        "        if is_prime(p):\n",
        "            return p\n",
        "\n",
        "# Finds a generator (primitive root) for the multiplicative group of integers modulo p.\n",
        "def find_generator(p):\n",
        "    phi = p - 1\n",
        "    factors = {i for i in range(2, int(phi**0.5) + 1) if phi % i == 0}\n",
        "    factors.update({phi // f for f in factors})\n",
        "\n",
        "    for g in range(2, p):\n",
        "        if all(pow(g, phi // f, p) != 1 for f in factors):\n",
        "            return g\n",
        "    return None\n",
        "\n",
        "p = generate_large_prime()\n",
        "g = find_generator(p)\n",
        "\n",
        "if g is None:\n",
        "    print(\"No generator found for the group.\")\n",
        "else:\n",
        "    s = random.randint(1, p - 2)\n",
        "    v = pow(g, s, p)\n",
        "\n",
        "    print('*public parameters*')\n",
        "    print('prime modulus (p):', p)\n",
        "    print('generator     (g):', g)\n",
        "    print('*key pair of original signer*')\n",
        "    print('public key    (v):', v)\n",
        "    print('secret key    (s):', s)\n"
      ]
    },
    {
      "cell_type": "markdown",
      "id": "9f1e1bf3",
      "metadata": {
        "id": "9f1e1bf3"
      },
      "source": [
        "## Step 1: Proxy generation\n",
        "\n",
        "Proxy: ($\\sigma$, K)"
      ]
    },
    {
      "cell_type": "markdown",
      "id": "CmwSBnaGJcEp",
      "metadata": {
        "id": "CmwSBnaGJcEp"
      },
      "source": [
        "The values of ***k*** and  ***sigma*** can be efficiently generated as follows:"
      ]
    },
    {
      "cell_type": "code",
      "execution_count": 26,
      "id": "b2502666",
      "metadata": {
        "colab": {
          "base_uri": "https://localhost:8080/"
        },
        "id": "b2502666",
        "outputId": "41240a99-6da4-4113-9094-1f4bc2f1e511"
      },
      "outputs": [
        {
          "name": "stdout",
          "output_type": "stream",
          "text": [
            "(just any) random number k: 185672345\n",
            "*proxy value pair for proxy signer*\n",
            "K    : 380483764\n",
            "sigma: 1368343731\n"
          ]
        }
      ],
      "source": [
        "k = random.randint(1,p-2) # random number, Z_{p-1}/{0}\n",
        "print('(just any) random number k:',k)\n",
        "\n",
        "print('*proxy value pair for proxy signer*')\n",
        "\n",
        "bigk = pow(g,k,p)\n",
        "print('K    :',bigk)\n",
        "\n",
        "sigma = (s + k*bigk)%(p-1)\n",
        "print('sigma:',sigma)"
      ]
    },
    {
      "cell_type": "markdown",
      "id": "1257811c",
      "metadata": {
        "id": "1257811c"
      },
      "source": [
        "## Step 2: Proxy delivery\n",
        "\n",
        "The proxy $(\\sigma,K)$, must be given by original signer to proxy signer securely.\n",
        "\n",
        "For example, using Diffie-Hellman to create a secure tunnel, this can be done."
      ]
    },
    {
      "cell_type": "markdown",
      "id": "77667dc9",
      "metadata": {
        "id": "77667dc9"
      },
      "source": [
        "## Step 3: Proxy verification"
      ]
    },
    {
      "cell_type": "markdown",
      "id": "mNo1xgILJ1CH",
      "metadata": {
        "id": "mNo1xgILJ1CH"
      },
      "source": [
        "The verification process can be optmized in an efficient way by seperately checking whether the 2 interpretatins are the same."
      ]
    },
    {
      "cell_type": "code",
      "execution_count": 27,
      "id": "13676852",
      "metadata": {
        "colab": {
          "background_save": true
        },
        "id": "13676852",
        "outputId": "d512336f-dc9a-48ad-98f1-ba9958631ace"
      },
      "outputs": [
        {
          "name": "stdout",
          "output_type": "stream",
          "text": [
            "LHS: 1379032947\n",
            "RHS: 1379032947\n",
            "Proxy Verification: Passed\n"
          ]
        }
      ],
      "source": [
        "lhs = pow(g,sigma,p)\n",
        "\n",
        "rhs = (v*pow(bigk,bigk,p))%p\n",
        "\n",
        "print('LHS:',lhs)\n",
        "print('RHS:',rhs)\n",
        "\n",
        "if(lhs==rhs):\n",
        "    print('Proxy Verification: Passed')\n",
        "else:\n",
        "    print('Proxy Verification: Failed')"
      ]
    },
    {
      "cell_type": "markdown",
      "id": "fd711b1a",
      "metadata": {
        "id": "fd711b1a"
      },
      "source": [
        "## Step 4: Signing by the proxy signer\n",
        "\n",
        "We are going to use __ElGamal signature scheme__.\n",
        "\n",
        "The __ElGamal signing__ protocol to sign message $m$ where the secret key of the signer is $x$:\n",
        "1. Choose an integer $k$ randomly from $\\{ 2 \\ldots p−2 \\}$  with $k$ relatively prime to $p−1$.\n",
        "2. Compute $r \\equiv g^{k} \\pmod p$.\n",
        "3. Compute $s \\equiv (H(m)-xr)k^{-1} \\pmod {p-1}$.\n",
        "If s = 0, then start again with a different random k.\n",
        "\n",
        "The signature is $(r,s)$.\n",
        "\n",
        "When generating the proxy signature, use $\\sigma$ instead of the secret key $x$."
      ]
    },
    {
      "cell_type": "code",
      "execution_count": 28,
      "id": "43ed18aa",
      "metadata": {
        "colab": {
          "base_uri": "https://localhost:8080/"
        },
        "id": "43ed18aa",
        "outputId": "ffc88d46-93d4-4685-9c4d-645d1d7ac21e"
      },
      "outputs": [
        {
          "name": "stdout",
          "output_type": "stream",
          "text": [
            "Ado mama Anjula\n",
            "message (m): 92936444892425296126897496249657084158512872626459328642006554000005634312468\n",
            "(a special) random number k: 735528551 (found after 0 tries. This is relatively prime to p-1 = 1410194328 )\n",
            "r : 661956901\n",
            "s1: 92936444892425296126897496249657084158512872626459328642005648215429958774837\n"
          ]
        }
      ],
      "source": [
        "import hashlib\n",
        "# m = random.randint(1,p-1) # message for signing. Consider this as H(m) in 1 ... p-1\n",
        "\n",
        "# read the message from the file\n",
        "#Req 3: Allow for an arbitrary size file to be read from the disk as input message for generating a proxy signature\n",
        "def read_message_from_file(filename):\n",
        "    with open(filename, 'r') as file:\n",
        "        message = file.read()\n",
        "        print(message)\n",
        "    return int(hashlib.sha256(message.encode()).hexdigest(), 16)\n",
        "\n",
        "m = read_message_from_file('message.txt')\n",
        "print('message (m):',m)\n",
        "\n",
        "k = 0\n",
        "\n",
        "#Trying out 1000 random values for k to find one that is relatively prime to p-1\n",
        "for i in range (1000): # this number 1000 is just a random value for the number of tries\n",
        "    k = random.randint(2,p-2) # random number k is in {2 ... (p-2)} and gcd(k,(p-1))=1\n",
        "    #print('testing',i,'th random number k:',k)\n",
        "    d = gcd(p-1,k)\n",
        "    if(d==1):\n",
        "        break\n",
        "\n",
        "print('(a special) random number k:',k,'(found after',i,'tries. This is relatively prime to p-1 =',p-1,')')\n",
        "\n",
        "r = pow(g,k,p)\n",
        "print('r :',r)\n",
        "\n",
        "s1 = m - (sigma*r) # in place of s, use sigma, theproxy secret\n",
        "print('s1:',s1)"
      ]
    },
    {
      "cell_type": "code",
      "execution_count": 29,
      "id": "T_bqzmNt-fzs",
      "metadata": {
        "colab": {
          "base_uri": "https://localhost:8080/"
        },
        "id": "T_bqzmNt-fzs",
        "outputId": "2f877ad9-6c4b-4c16-b3a0-d3a010751ca7"
      },
      "outputs": [
        {
          "name": "stdout",
          "output_type": "stream",
          "text": [
            "Modulo inverse of k mod q: 500922983 (for 735528551 mod 1410194328 )\n"
          ]
        }
      ],
      "source": [
        "# Applies the Extended Euclidean Algorithm to determine the greatest common divisor of a and b, and the coefficients for Bézout's identity.\n",
        "def extended_gcd(a, b):\n",
        "    if a == 0:\n",
        "        return b, 0, 1\n",
        "    gcd, x_prev, y_prev = extended_gcd(b % a, a)\n",
        "    x_current = y_prev - (b // a) * x_prev\n",
        "    y_current = x_prev\n",
        "    return gcd, x_current, y_current\n",
        "\n",
        "# Calculate the modular inverse of k modulo q using the Extended Euclidean Algorithm.\n",
        "def modular_inverse(k, q):\n",
        "    gcd, x, _ = extended_gcd(k, q)\n",
        "    if gcd != 1:\n",
        "        raise ValueError(f\"Modular inverse doesn't exist for k = {k} under modulo q = {q}\")\n",
        "    return x % q\n",
        "\n",
        "# Assume q = p-1 and k are already defined from previous steps\n",
        "q = p - 1\n",
        "\n",
        "try:\n",
        "    invk = modular_inverse(k, q)\n",
        "    print('Modulo inverse of k mod q:', invk, '(for', k, 'mod', q, ')')\n",
        "except ValueError as e:\n",
        "    print(e)\n"
      ]
    },
    {
      "cell_type": "code",
      "execution_count": 30,
      "id": "83e0440d",
      "metadata": {
        "colab": {
          "base_uri": "https://localhost:8080/"
        },
        "id": "83e0440d",
        "outputId": "3b778544-9858-414b-bbf5-20b1dac51bbe"
      },
      "outputs": [
        {
          "name": "stdout",
          "output_type": "stream",
          "text": [
            "s: 476482739\n",
            "The proxy signed message is (m,(r,s),K):( 92936444892425296126897496249657084158512872626459328642006554000005634312468 ( 661956901 , 476482739 ) 380483764 )\n",
            "Signature written to signature.txt\n"
          ]
        }
      ],
      "source": [
        "# Calculate the value of the signature\n",
        "s = (s1*invk)%(p-1)\n",
        "print('s:',s)\n",
        "print('The proxy signed message is (m,(r,s),K):(',m,'(',r,',',s,')',bigk,')')\n",
        "\n",
        "# Write the signature components to a file.\n",
        "# Req 4: Allow for the proxy signature to be written to the disk\n",
        "def write_signature_to_file(filename, signature):\n",
        "    with open(filename, 'w') as file:\n",
        "        file.write(f\"{signature[0]}\\n{signature[1]}\\n{signature[2]}\")\n",
        "\n",
        "write_signature_to_file('signature.txt', (r, s, bigk))\n",
        "print('Signature written to signature.txt')"
      ]
    },
    {
      "cell_type": "markdown",
      "id": "f547e51f",
      "metadata": {
        "id": "f547e51f"
      },
      "source": [
        "## Step 5: Verification of the proxy signature\n",
        "\n",
        "The new public key $v' \\equiv vK^K \\pmod p$"
      ]
    },
    {
      "cell_type": "markdown",
      "id": "0d7f64f1",
      "metadata": {
        "id": "0d7f64f1"
      },
      "source": [
        "The __ElGamal signature verification__ protocol to verify a signed message $m$ with signature $(r,s)$ where the public key of the signer is $y$:\n",
        "1. Verify that $0 < r < p$ and $0 < s < p − 1$.\n",
        "2. Verify that $g^{H(m)} \\equiv y^r r^s \\pmod p$."
      ]
    },
    {
      "cell_type": "markdown",
      "id": "KU-1hAWuMP0f",
      "metadata": {
        "id": "KU-1hAWuMP0f"
      },
      "source": [
        "Req 5 is implemented below: Allow for a message and a proxy signature read from the disk to be verified"
      ]
    },
    {
      "cell_type": "markdown",
      "id": "AGjt-op-Mmve",
      "metadata": {
        "id": "AGjt-op-Mmve"
      },
      "source": [
        "The process of verification of proxy signature can be optimized fr efficiency as follows:"
      ]
    },
    {
      "cell_type": "code",
      "execution_count": 31,
      "id": "ecb2d1dc",
      "metadata": {
        "colab": {
          "base_uri": "https://localhost:8080/"
        },
        "id": "ecb2d1dc",
        "outputId": "12e4791e-adf6-4747-9011-5a3ef7a78a1a"
      },
      "outputs": [
        {
          "name": "stdout",
          "output_type": "stream",
          "text": [
            "r = 661956901 , s = 476482739 , p = 1410194329\n",
            "Verification Check 1: Passed\n"
          ]
        }
      ],
      "source": [
        "# Read the signature form the file\n",
        "def read_siganture(filename):\n",
        "    with open(filename, 'r') as file:\n",
        "        lines = file.readlines()\n",
        "        return int(lines[0]), int(lines[1]), int(lines[2])\n",
        "\n",
        "r, s, bigk = read_siganture('signature.txt')\n",
        "\n",
        "print('r =',r,', s =',s,', p =',p)\n",
        "check1 = False\n",
        "check2 = False\n",
        "\n",
        "# Verification Check 1\n",
        "if (0<r) & (r<p):\n",
        "    if (0<s) & (s<(p-1)):\n",
        "        check1 = True\n",
        "        print('Verification Check 1: Passed')\n",
        "    else:\n",
        "        print('Verification Check 1: Failed')\n",
        "else:\n",
        "    print('Verification Check 1: Failed')"
      ]
    },
    {
      "cell_type": "code",
      "execution_count": 32,
      "id": "7c2cd315",
      "metadata": {
        "colab": {
          "base_uri": "https://localhost:8080/"
        },
        "id": "7c2cd315",
        "outputId": "24a017a9-dc60-431d-ed80-ae51e799673c"
      },
      "outputs": [
        {
          "name": "stdout",
          "output_type": "stream",
          "text": [
            "LHS: 12462952\n",
            "RHS: 12462952\n",
            "Verification Check 2: Passed\n"
          ]
        }
      ],
      "source": [
        "# Verification check 2\n",
        "y = (v*pow(bigk,bigk,p))%p # this is the proxy public key y = VK^K mod p\n",
        "\n",
        "lhs = pow(g,m,p)\n",
        "\n",
        "rhs = (pow(y,r,p)*pow(r,s,p))%p\n",
        "\n",
        "print('LHS:',lhs)\n",
        "print('RHS:',rhs)\n",
        "\n",
        "if(lhs==rhs):\n",
        "    check2 = True\n",
        "    print('Verification Check 2: Passed')\n",
        "else:\n",
        "    print('Verification Check 2: Failed')"
      ]
    },
    {
      "cell_type": "markdown",
      "id": "-PDIm2OfUUXF",
      "metadata": {
        "id": "-PDIm2OfUUXF"
      },
      "source": [
        "Final verification process:"
      ]
    },
    {
      "cell_type": "code",
      "execution_count": 33,
      "id": "a0c9713b",
      "metadata": {
        "colab": {
          "base_uri": "https://localhost:8080/"
        },
        "id": "a0c9713b",
        "outputId": "423cec6f-d5b2-4932-8995-ad93dc187dc7"
      },
      "outputs": [
        {
          "name": "stdout",
          "output_type": "stream",
          "text": [
            "Proxy signature verification: Passed\n"
          ]
        }
      ],
      "source": [
        "if(check1 & check2):\n",
        "    print('Proxy signature verification: Passed')\n",
        "else:\n",
        "    print('Proxy signature verification: Failed')"
      ]
    }
  ],
  "metadata": {
    "colab": {
      "provenance": []
    },
    "kernelspec": {
      "display_name": "Python 3 (ipykernel)",
      "language": "python",
      "name": "python3"
    },
    "language_info": {
      "codemirror_mode": {
        "name": "ipython",
        "version": 3
      },
      "file_extension": ".py",
      "mimetype": "text/x-python",
      "name": "python",
      "nbconvert_exporter": "python",
      "pygments_lexer": "ipython3",
      "version": "3.11.2"
    }
  },
  "nbformat": 4,
  "nbformat_minor": 5
}
