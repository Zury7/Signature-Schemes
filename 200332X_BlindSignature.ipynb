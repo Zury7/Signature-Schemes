{
 "cells": [
  {
   "cell_type": "markdown",
   "id": "44b5621f",
   "metadata": {},
   "source": [
    "# Implementation of a Blind Signature Scheme with RSA\n",
    "\n",
    "## RSA Key Pair Generation"
   ]
  },
  {
   "cell_type": "code",
   "execution_count": 143,
   "id": "e1c919f0",
   "metadata": {},
   "outputs": [],
   "source": [
    "import random\n",
    "\n",
    "#Miller Rabin Primality Test\n",
    "def is_prime(n, k=5):\n",
    "    if n <= 1:\n",
    "        return False\n",
    "    if n <= 3:\n",
    "        return True\n",
    "    if n % 2 == 0:\n",
    "        return False\n",
    "\n",
    "    r, d = 0, n - 1\n",
    "    while d % 2 == 0:\n",
    "        d //= 2\n",
    "        r += 1\n",
    "\n",
    "    #check if a base a indicates n is composite.\n",
    "    def check_composite(a):\n",
    "        x = pow(a, d, n)\n",
    "        if x == 1 or x == n - 1:\n",
    "            return False\n",
    "        for _ in range(r - 1):\n",
    "            x = pow(x, 2, n)\n",
    "            if x == n - 1:\n",
    "                return False\n",
    "        return True\n",
    "\n",
    "    for _ in range(k):\n",
    "        a = random.randint(2, n - 2)\n",
    "        if check_composite(a):\n",
    "            return False\n",
    "    return True\n",
    "\n",
    "# Generates a large prime number with a specified number of bits.\n",
    "def generate_large_prime(bits=32):\n",
    "    while True:\n",
    "        p = random.getrandbits(bits) | 1  # Ensures p is odd\n",
    "        if is_prime(p):\n",
    "            return p"
   ]
  },
  {
   "cell_type": "code",
   "execution_count": 144,
   "id": "73632885",
   "metadata": {},
   "outputs": [
    {
     "name": "stdout",
     "output_type": "stream",
     "text": [
      "Prime composite n: 9597602117755532057\n",
      "Euler totient function of n: 9597602111337544320\n"
     ]
    }
   ],
   "source": [
    "p = generate_large_prime(32)\n",
    "q = generate_large_prime(32)\n",
    "n = p*q # prime composite\n",
    "print('Prime composite n:',n)\n",
    "phi_n = (p-1)*(q-1) # Euler Totient Function of n\n",
    "print('Euler totient function of n:',phi_n)"
   ]
  },
  {
   "cell_type": "markdown",
   "id": "111a3f7e",
   "metadata": {},
   "source": [
    "### Greatest Common Divisor utility function"
   ]
  },
  {
   "cell_type": "code",
   "execution_count": 145,
   "id": "3ca47c86",
   "metadata": {},
   "outputs": [],
   "source": [
    "def gcd(a, b):\n",
    "    if((a<0) or (b<0) or (a<b)):\n",
    "        print(\"wrong parameter input\")\n",
    "        return\n",
    "\n",
    "    while(b != 0):\n",
    "        r = a % b\n",
    "        a = b\n",
    "        b = r\n",
    "        \n",
    "    return a"
   ]
  },
  {
   "cell_type": "code",
   "execution_count": 146,
   "id": "002f6662",
   "metadata": {},
   "outputs": [
    {
     "name": "stdout",
     "output_type": "stream",
     "text": [
      "True\n",
      "1\n",
      "Public exponent: 4021403657\n"
     ]
    }
   ],
   "source": [
    "e = generate_large_prime(32)\n",
    "print((1 < e) and (e < phi_n))\n",
    "print(gcd(phi_n,e))\n",
    "print('Public exponent:',e)"
   ]
  },
  {
   "cell_type": "markdown",
   "id": "d1001de7",
   "metadata": {},
   "source": [
    "### Modulo Inverse utility function"
   ]
  },
  {
   "cell_type": "code",
   "execution_count": 147,
   "id": "8a0ab2d5",
   "metadata": {},
   "outputs": [],
   "source": [
    "# Applies the Extended Euclidean Algorithm to determine the greatest common divisor of a and b, and the coefficients for Bézout's identity.\n",
    "def extended_gcd(a, b):\n",
    "    if a == 0:\n",
    "        return b, 0, 1\n",
    "    gcd, x_prev, y_prev = extended_gcd(b % a, a)\n",
    "    x_current = y_prev - (b // a) * x_prev\n",
    "    y_current = x_prev\n",
    "    return gcd, x_current, y_current\n",
    "\n",
    "# Calculate the modular inverse of k modulo q using the Extended Euclidean Algorithm.\n",
    "def modular_inverse(k, q):\n",
    "    gcd, x, _ = extended_gcd(k, q)\n",
    "    if gcd != 1:\n",
    "        raise ValueError(f\"Modular inverse doesn't exist for k = {k} under modulo q = {q}\")\n",
    "    return x % q"
   ]
  },
  {
   "cell_type": "code",
   "execution_count": 148,
   "id": "f7d8a528",
   "metadata": {},
   "outputs": [
    {
     "name": "stdout",
     "output_type": "stream",
     "text": [
      "Secret exponent: 179607256138019513\n"
     ]
    }
   ],
   "source": [
    "d = modular_inverse(e,phi_n)\n",
    "print('Secret exponent:',d)"
   ]
  },
  {
   "cell_type": "code",
   "execution_count": 149,
   "id": "7fab3858",
   "metadata": {},
   "outputs": [
    {
     "name": "stdout",
     "output_type": "stream",
     "text": [
      "Secret key (d): 179607256138019513\n",
      "Public key (e,n): 4021403657 9597602117755532057\n"
     ]
    }
   ],
   "source": [
    "print('Secret key (d):',d)\n",
    "print('Public key (e,n):',e,n)"
   ]
  },
  {
   "cell_type": "markdown",
   "id": "af4c05fd",
   "metadata": {},
   "source": [
    "## Verifying Key Pair using RSA Public Key Encryption"
   ]
  },
  {
   "cell_type": "code",
   "execution_count": 150,
   "id": "16248abf",
   "metadata": {},
   "outputs": [],
   "source": [
    "import hashlib\n",
    "\n",
    "def read_message_from_file(filename, n):\n",
    "    with open(filename, 'r') as file:\n",
    "        message = file.read()\n",
    "        print(message)\n",
    "    return int(hashlib.sha256(message.encode()).hexdigest(), 16) % n\n",
    "\n",
    "def write_signature_to_file(filename, signature):\n",
    "    with open(filename, 'w') as file:\n",
    "        file.write(str(signature))\n",
    "        \n",
    "def read_signature_from_file(filename):\n",
    "    with open(filename, 'r') as file:\n",
    "        signature = int(file.read())\n",
    "    return signature\n",
    "\n",
    "read_message_file_path = 'message.txt'\n",
    "write_signature_file_path = 'signature.txt'"
   ]
  },
  {
   "cell_type": "code",
   "execution_count": 151,
   "id": "ccbee72f",
   "metadata": {},
   "outputs": [
    {
     "name": "stdout",
     "output_type": "stream",
     "text": [
      "Ado mama Anjula\n",
      "Plaintext : 7876866907092654881\n",
      "Ciphertext: 4389271405695363308\n",
      "Decryption: 7876866907092654881\n"
     ]
    }
   ],
   "source": [
    "m = read_message_from_file(read_message_file_path, n)\n",
    "print('Plaintext :',m)\n",
    "c = pow(m,e,n) # public key encryption\n",
    "print('Ciphertext:',c)\n",
    "m1 = pow(c,d,n) # public key decryption\n",
    "print('Decryption:',m1)"
   ]
  },
  {
   "cell_type": "markdown",
   "id": "164b872e",
   "metadata": {},
   "source": [
    "## Blind Signature Generation"
   ]
  },
  {
   "cell_type": "code",
   "execution_count": 152,
   "id": "855b79ec",
   "metadata": {},
   "outputs": [
    {
     "name": "stdout",
     "output_type": "stream",
     "text": [
      "Blinding factor: 5779815420260312904\n",
      "Blinded message: 2199951294431269806\n",
      "Signature on blinded message: 5111875325994362525\n"
     ]
    }
   ],
   "source": [
    "k = generate_large_prime(32)\n",
    "bf = pow(k,e,n) # blinding factor\n",
    "print('Blinding factor:',bf)\n",
    "m1 = (m*bf)%n # blinded message\n",
    "print('Blinded message:',m1)\n",
    "s1 = pow(m1,d,n) # signature on blinded message\n",
    "print('Signature on blinded message:',s1)\n",
    "write_signature_to_file(write_signature_file_path,s1)\n"
   ]
  },
  {
   "cell_type": "code",
   "execution_count": 153,
   "id": "bb701657",
   "metadata": {},
   "outputs": [
    {
     "name": "stdout",
     "output_type": "stream",
     "text": [
      "Signature on original message: 7225579094839142380\n",
      "Signature on original message when directly computed: 7225579094839142380\n"
     ]
    }
   ],
   "source": [
    "s1 = read_signature_from_file(write_signature_file_path)\n",
    "invk = modular_inverse(k,n)\n",
    "s = (s1*invk)%n # recovery of signature\n",
    "print('Signature on original message:',s)\n",
    "s0 = pow(m,d,n) # compute the signature directly\n",
    "print('Signature on original message when directly computed:',s0)"
   ]
  },
  {
   "cell_type": "code",
   "execution_count": 154,
   "id": "1a7eda98",
   "metadata": {},
   "outputs": [
    {
     "name": "stdout",
     "output_type": "stream",
     "text": [
      "Signature is valid\n"
     ]
    }
   ],
   "source": [
    "if(s == s0):\n",
    "    print('Signature is valid')\n",
    "else:\n",
    "    print('Signature is invalid')"
   ]
  }
 ],
 "metadata": {
  "kernelspec": {
   "display_name": "Python 3 (ipykernel)",
   "language": "python",
   "name": "python3"
  },
  "language_info": {
   "codemirror_mode": {
    "name": "ipython",
    "version": 3
   },
   "file_extension": ".py",
   "mimetype": "text/x-python",
   "name": "python",
   "nbconvert_exporter": "python",
   "pygments_lexer": "ipython3",
   "version": "3.11.2"
  }
 },
 "nbformat": 4,
 "nbformat_minor": 5
}
